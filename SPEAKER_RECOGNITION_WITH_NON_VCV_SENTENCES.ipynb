{
  "nbformat": 4,
  "nbformat_minor": 0,
  "metadata": {
    "colab": {
      "provenance": []
    },
    "kernelspec": {
      "name": "python3",
      "display_name": "Python 3"
    },
    "language_info": {
      "name": "python"
    }
  },
  "cells": [
    {
      "cell_type": "markdown",
      "source": [
        "**1. Importing Libraries.**"
      ],
      "metadata": {
        "id": "Cy0EiCfD6yL2"
      }
    },
    {
      "cell_type": "code",
      "execution_count": 13,
      "metadata": {
        "id": "4bt0TCE06X5B"
      },
      "outputs": [],
      "source": [
        "import numpy as np\n",
        "import pandas as pd\n",
        "import librosa\n",
        "import glob\n",
        "import tensorflow as tf\n",
        "from tensorflow import keras\n",
        "from keras.layers import Dense , LSTM , Dropout , Softmax , LayerNormalization , Conv2D , MaxPool2D , Flatten , BatchNormalization\n",
        "from sklearn.neighbors import KNeighborsClassifier\n",
        "import matplotlib.pyplot as plt"
      ]
    },
    {
      "cell_type": "markdown",
      "source": [
        "**2. Analyzing the mean length of audio files in the data.**"
      ],
      "metadata": {
        "id": "LCJYDfG_pozx"
      }
    },
    {
      "cell_type": "code",
      "source": [
        "def mean_audio_length():\n",
        "    \"\"\"\n",
        "    This function finds the mean length of all the audios.\n",
        "    \"\"\"\n",
        "    # Creating an empty list to store the lengths of each audio file\n",
        "    audio_length = []\n",
        "    \n",
        "    # Creating a list of class names\n",
        "    classes = ['Aditya', 'Mehul', 'Neha', 'Saurabh', 'Varad']\n",
        "    \n",
        "    # Iterating over each class\n",
        "    for i in classes:\n",
        "        # Creating a file path string that includes the class name\n",
        "        audio_path = '/content/drive/MyDrive/Non_VCV_Sentences/' + str(i) + '/*'\n",
        "      \n",
        "        \n",
        "        # Using glob to find all audio files that match the file path pattern\n",
        "        audio_files = glob.glob(audio_path)\n",
        "    \n",
        "        \n",
        "        # Iterating over each audio file in the list of matching files\n",
        "        for j in range(len(audio_files)):\n",
        "            # Loading the audio file into a NumPy array using librosa\n",
        "            audio , sr = librosa.load(audio_files[j])\n",
        "            \n",
        "            # Appending the length of the audio file to the list of audio lengths\n",
        "            audio_length.append(len(audio))\n",
        "            # print(audio_length)\n",
        "            \n",
        "            # Optional: Printing the length of each audio file as it's processed\n",
        "            # print(len(audio))\n",
        "    \n",
        "    # Calculate the mean length of\" all audio files in the list\n",
        "    return np.mean(audio_length)"
      ],
      "metadata": {
        "id": "urwsE3Ba7bbk"
      },
      "execution_count": 14,
      "outputs": []
    },
    {
      "cell_type": "code",
      "source": [
        "mean_length = mean_audio_length()\n",
        "print(\"Mean length of all the collected audios is :\", mean_length)"
      ],
      "metadata": {
        "id": "8cFtVb7NrM5j",
        "colab": {
          "base_uri": "https://localhost:8080/"
        },
        "outputId": "d8e71fb6-20b9-4845-d193-2f8a113018ca"
      },
      "execution_count": 15,
      "outputs": [
        {
          "output_type": "stream",
          "name": "stdout",
          "text": [
            "Mean length of all the collected audios is : 32606.293333333335\n"
          ]
        }
      ]
    },
    {
      "cell_type": "markdown",
      "source": [
        "**3. Preparing the Training and Testing Data for the KNN Model.**"
      ],
      "metadata": {
        "id": "gene3JjXD1VW"
      }
    },
    {
      "cell_type": "code",
      "source": [
        "def audio_data_knn(mean_length):\n",
        "  # Create empty dictionaries to store the training and testing data\n",
        "  data_train = {'labels':[],\n",
        "                'mfcc':[]}\n",
        "  data_test = {'labels':[],\n",
        "                'mfcc':[]}\n",
        "  \n",
        "  # Define a list of class names\n",
        "  classes = ['Aditya', 'Mehul', 'Neha', 'Saurabh', 'Varad']\n",
        "  \n",
        "  # Loop over each class\n",
        "  for i in classes:\n",
        "      # Set the path to the directory containing the audio files for this class\n",
        "      audio_path = '/content/drive/MyDrive/Non_VCV_Sentences/' + str(i) + '/*'\n",
        "      # Use the glob function to get a list of audio files in the directory\n",
        "      audio_files = glob.glob(audio_path)\n",
        "      # Loop over all audio files except the last one (used for testing)\n",
        "      for j in range(len(audio_files)-2):\n",
        "        # Load the audio file using librosa\n",
        "        audio,sr = librosa.load(audio_files[j])\n",
        "        # If the audio file is longer than the mean length, truncate it\n",
        "        if len(audio)>mean_length:\n",
        "          audio = audio[0:int(mean_length)]\n",
        "        # If the audio file is shorter than the mean length, pad it with zeros\n",
        "        if len(audio)<mean_length:\n",
        "          diff = int(mean_length) - len(audio)\n",
        "          audio = np.pad(audio,(0,diff))\n",
        "        # Compute the MFCC features for the audio file\n",
        "        mfcc = librosa.feature.mfcc(y=audio,sr=sr,n_mfcc=8)\n",
        "        # Add the MFCC features and label to the training data dictionary\n",
        "        data_train['mfcc'].append(mfcc.flatten())\n",
        "        data_train['labels'].append(i)\n",
        "      # Load the last 2 audio file in the directory (used for testing)\n",
        "      for k in range(len(audio_files)-1,len(audio_files)):\n",
        "        audio,sr = librosa.load(audio_files[k])\n",
        "        # If the audio file is longer than the mean length, truncate it\n",
        "        if len(audio)>mean_length:\n",
        "          audio = audio[0:int(mean_length)]\n",
        "        # If the audio file is shorter than the mean length, pad it with zeros\n",
        "        if len(audio)<mean_length:\n",
        "          diff = int(mean_length) - len(audio)\n",
        "          audio = np.pad(audio,(0,diff))\n",
        "        # Compute the MFCC features for the audio file\n",
        "        mfcc = librosa.feature.mfcc(y=audio,sr=sr,n_mfcc = 8)\n",
        "        # Add the MFCC features and label to the testing data dictionary\n",
        "        data_test['mfcc'].append(mfcc.flatten())\n",
        "        data_test['labels'].append(i)\n",
        "  # Return the training and testing data dictionaries\n",
        "  return data_train,data_test"
      ],
      "metadata": {
        "id": "kXUXsfZtf35n"
      },
      "execution_count": 16,
      "outputs": []
    },
    {
      "cell_type": "code",
      "source": [
        "# Call the audio_data_knn function with the mean_length argument to get the training and testing data.\n",
        "knn_train_data , knn_test_data = audio_data_knn(mean_length)"
      ],
      "metadata": {
        "id": "0_icZ0nTgQnh"
      },
      "execution_count": 17,
      "outputs": []
    },
    {
      "cell_type": "code",
      "source": [
        "X_knn_train = knn_train_data['mfcc']\n",
        "X_knn_test = knn_test_data['mfcc']\n",
        "y_knn_train = knn_train_data['labels']\n",
        "y_knn_test = knn_test_data['labels']"
      ],
      "metadata": {
        "id": "BRtGB7X8gxSM"
      },
      "execution_count": 18,
      "outputs": []
    },
    {
      "cell_type": "code",
      "source": [
        "# Ensuring that all sequences in the dataset have the same length\n",
        "X_knn_train = tf.keras.preprocessing.sequence.pad_sequences(X_knn_train)\n",
        "X_knn_test = tf.keras.preprocessing.sequence.pad_sequences(X_knn_test)"
      ],
      "metadata": {
        "id": "IqfqU2Cug2oH"
      },
      "execution_count": 19,
      "outputs": []
    },
    {
      "cell_type": "code",
      "source": [
        "X_knn_train.shape"
      ],
      "metadata": {
        "colab": {
          "base_uri": "https://localhost:8080/"
        },
        "id": "Ak-U93TCiP_y",
        "outputId": "82a4aa1c-2ab3-44b6-bd01-8a4619f68917"
      },
      "execution_count": 20,
      "outputs": [
        {
          "output_type": "execute_result",
          "data": {
            "text/plain": [
              "(65, 512)"
            ]
          },
          "metadata": {},
          "execution_count": 20
        }
      ]
    },
    {
      "cell_type": "code",
      "source": [
        "mapping = {'Aditya':0,'Mehul':1 ,'Neha':2,'Saurabh':3,'Varad':4}\n",
        "\n",
        "# convert y_knn_train to a Pandas DataFrame and assign it to y_knn_train\n",
        "y_knn_train = pd.DataFrame(y_knn_train)\n",
        "\n",
        "# replace the values in y_knn_train using the provided mapping dictionary and assign it to y_knn_train\n",
        "y_knn_train = y_knn_train.replace(mapping)\n",
        "\n",
        "# convert y_knn_train to a numpy array and assign it back to y_knn_train\n",
        "y_knn_train = np.array(y_knn_train)\n",
        "\n",
        "# convert y_knn_test to a Pandas DataFrame and assign it to y_knn_test\n",
        "y_knn_test = pd.DataFrame(y_knn_test)\n",
        "\n",
        "# replace the values in y_knn_test using the provided mapping dictionary and assign it to y_knn_test\n",
        "y_knn_test = y_knn_test.replace(mapping)\n",
        "\n",
        "# convert y_knn_test to a numpy array and assign it back to y_knn_test\n",
        "y_knn_test = np.array(y_knn_test)"
      ],
      "metadata": {
        "id": "14i_hQuSiTR0"
      },
      "execution_count": 22,
      "outputs": []
    },
    {
      "cell_type": "code",
      "source": [
        "k_values = []\n",
        "accuracies = []\n",
        "\n",
        "for i in range(1, 25):\n",
        "    # create a KNeighborsClassifier object with i neighbors and assign it to knn_classifier\n",
        "    knn_classifier = KNeighborsClassifier(n_neighbors=i)\n",
        "\n",
        "    # fit the knn_classifier on the training data X_knn_train and y_knn_train\n",
        "    knn_classifier.fit(X_knn_train, y_knn_train.reshape(-1))\n",
        "\n",
        "    # calculate the accuracy of the knn_classifier on the test data\n",
        "    accuracy = knn_classifier.score(X_knn_test, y_knn_test)\n",
        "\n",
        "    # add the k value and accuracy to the corresponding lists\n",
        "    k_values.append(i)\n",
        "    accuracies.append(accuracy)\n",
        "\n",
        "# print the average accuracy\n",
        "print('Average accuracy:', np.mean(accuracies))\n",
        "\n",
        "# create a line plot of the accuracies vs the k values\n",
        "plt.plot(k_values, accuracies)\n",
        "plt.xlabel('Value of K')\n",
        "plt.ylabel('Accuracy')\n",
        "plt.title('K-Nearest Neighbors Classifier Accuracy vs K Value')\n",
        "plt.show()"
      ],
      "metadata": {
        "colab": {
          "base_uri": "https://localhost:8080/",
          "height": 489
        },
        "id": "jJODnM0OlB_a",
        "outputId": "164bb171-209d-46ab-ed56-3baf432d0bca"
      },
      "execution_count": 23,
      "outputs": [
        {
          "output_type": "stream",
          "name": "stdout",
          "text": [
            "Average accuracy: 0.6749999999999999\n"
          ]
        },
        {
          "output_type": "display_data",
          "data": {
            "text/plain": [
              "<Figure size 640x480 with 1 Axes>"
            ],
            "image/png": "[encoded data removed]"
          },
          "metadata": {}
        }
      ]
    },
    {
      "cell_type": "code",
      "source": [
        "knn_classifier = KNeighborsClassifier(n_neighbors=10)\n",
        "knn_classifier.fit(X_knn_train, y_knn_train.reshape(-1))\n",
        "print(\"The Best Accuracy of K-Nearest Neighbour model :\" , knn_classifier.score(X_knn_test,y_knn_test) * 100 ,\"%\")"
      ],
      "metadata": {
        "colab": {
          "base_uri": "https://localhost:8080/"
        },
        "id": "A2jOAhbAjOEo",
        "outputId": "1dc7ff75-8fb9-4ad5-c63a-9f2e11042dab"
      },
      "execution_count": null,
      "outputs": [
        {
          "output_type": "stream",
          "name": "stdout",
          "text": [
            "The Best Accuracy of K-Nearest Neighbour model : 80.0 %\n"
          ]
        }
      ]
    },
    {
      "cell_type": "markdown",
      "source": [
        "**3. Preparing the Training and Testing Data for the CNN Model.**"
      ],
      "metadata": {
        "id": "RvIrgDiMljQ-"
      }
    },
    {
      "cell_type": "code",
      "source": [
        "def audio_data(mean_length):\n",
        "\n",
        "  \"\"\"\n",
        "  This function takes the mean audio length of all data and returns the train and test data. \n",
        "\n",
        "  \"\"\"\n",
        "  \n",
        "  # Creating two empty dictionaries for training and testing data with 'labels' and 'mfcc' keys\n",
        "  data_train = {'labels':[],'mfcc':[]}\n",
        "  data_test = {'labels':[],'mfcc':[]}\n",
        "  \n",
        "  # Defining a list of class names\n",
        "  classes = ['Aditya', 'Mehul', 'Neha', 'Saurabh', 'Varad']\n",
        "  \n",
        "  # Looping through each class\n",
        "  for i in classes:\n",
        "    \n",
        "    # Creating a string of file paths for each class\n",
        "    audio_path = '/content/drive/MyDrive/Non_VCV_Sentences/' + str(i) + '/*'\n",
        "    \n",
        "    # Getting a list of all audio files in the directory\n",
        "    audio_files = glob.glob(audio_path)\n",
        "    \n",
        "    # Looping through each audio file except for the last one (which will be used for testing)\n",
        "    for j in range(len(audio_files)-2):\n",
        "      \n",
        "      # Loading the audio file using librosa library and its corresponding sample rate\n",
        "      audio,sr = librosa.load(audio_files[j])\n",
        "      \n",
        "      # If the audio is longer than the mean_length, then trimming it\n",
        "      if len(audio)>mean_length:\n",
        "        audio = audio[0:int(mean_length)]\n",
        "        \n",
        "      # If the audio is shorter than the mean_length, then padding it with zeros\n",
        "      if len(audio)<mean_length:\n",
        "        diff = int(mean_length) - len(audio)\n",
        "        audio = np.pad(audio,(0,diff))\n",
        "      \n",
        "      # Computing the MFCC features of the audio signal\n",
        "      mfcc = librosa.feature.mfcc(y=audio,sr=sr)\n",
        "      \n",
        "      # Appending the MFCC features and the corresponding label to the training data dictionary\n",
        "      data_train['mfcc'].append(mfcc.T)\n",
        "      data_train['labels'].append(i)\n",
        "      \n",
        "    # Loading the last audio file in the directory for testing\n",
        "    for k in range(len(audio_files)-2,len(audio_files)):\n",
        "      \n",
        "      # Loading the audio file using librosa library and its corresponding sample rate\n",
        "      audio,sr = librosa.load(audio_files[k])\n",
        "      \n",
        "      # If the audio is longer than the mean_length, then trimming it\n",
        "      if len(audio)>mean_length:\n",
        "        audio = audio[0:int(mean_length)]\n",
        "        \n",
        "      # If the audio is shorter than the mean_length, then padding it with zeros\n",
        "      if len(audio)<mean_length:\n",
        "        diff = int(mean_length) - len(audio)\n",
        "        audio = np.pad(audio,(0,diff))\n",
        "      \n",
        "      # Computing the MFCC features of the audio signal\n",
        "      mfcc = librosa.feature.mfcc(y=audio,sr=sr)\n",
        "      \n",
        "      # Appending the MFCC features and the corresponding label to the testing data dictionary\n",
        "      data_test['mfcc'].append(mfcc.T)\n",
        "      data_test['labels'].append(i)\n",
        "  \n",
        "  # Returning the training and testing data dictionaries\n",
        "  return data_train, data_test"
      ],
      "metadata": {
        "id": "UwlsTxhArM9k"
      },
      "execution_count": null,
      "outputs": []
    },
    {
      "cell_type": "code",
      "source": [
        "# Storing the obtained train and test data.\n",
        "train_data , test_data = audio_data(mean_length)\n",
        "\n",
        "X_train = train_data['mfcc']\n",
        "y_train = train_data['labels']\n",
        "X_test = test_data['mfcc']\n",
        "y_test = test_data['labels']"
      ],
      "metadata": {
        "id": "RxsbY7YTrNAa"
      },
      "execution_count": null,
      "outputs": []
    },
    {
      "cell_type": "code",
      "source": [
        "# Ensuring that all sequences in the dataset have the same length\n",
        "# Padding the sequences in X_train to a maximum length of 44\n",
        "X_train = tf.keras.preprocessing.sequence.pad_sequences(X_train, maxlen=44)\n",
        "\n",
        "# Padding the sequences in X_test to a maximum length of 44\n",
        "X_test = tf.keras.preprocessing.sequence.pad_sequences(X_test, maxlen=44)"
      ],
      "metadata": {
        "id": "9LAvcD20rNE2"
      },
      "execution_count": null,
      "outputs": []
    },
    {
      "cell_type": "code",
      "source": [
        "X_train.shape"
      ],
      "metadata": {
        "colab": {
          "base_uri": "https://localhost:8080/"
        },
        "id": "LsHOytWlfH98",
        "outputId": "56bd417d-aed6-4bd7-b1bf-88d6253a47aa"
      },
      "execution_count": null,
      "outputs": [
        {
          "output_type": "execute_result",
          "data": {
            "text/plain": [
              "(65, 44, 20)"
            ]
          },
          "metadata": {},
          "execution_count": 182
        }
      ]
    },
    {
      "cell_type": "code",
      "source": [
        "# preprocessing step where categorical labels are mapped to numerical values, so that they can be used as inputs to the model.\n",
        "mapping = {'Aditya':0,'Mehul':1 ,'Neha':2,'Saurabh':3,'Varad':4}   # creating a dictionary that maps class names to integers\n",
        "\n",
        "y_train = pd.DataFrame(y_train)    # converting y_train to a pandas dataframe\n",
        "y_train = y_train.replace(mapping)    # replacing the class names in y_train with their integer mappings\n",
        "y_train = np.array(y_train)    # converting y_train to a numpy array\n",
        "\n",
        "y_test = pd.DataFrame(y_test)    # converting y_test to a pandas dataframe\n",
        "y_test = y_test.replace(mapping)    # replacing the class names in y_test with their integer mappings\n",
        "y_test = np.array(y_test)    # converting y_test to a numpy array"
      ],
      "metadata": {
        "id": "8aJeWwVqrNLW"
      },
      "execution_count": null,
      "outputs": []
    },
    {
      "cell_type": "code",
      "source": [
        "# print(\"y_train :\",y_train)\n",
        "# print(\"Shape of X_train :\",X_train.shape)\n",
        "# print(\"Shape of sample data :\",X_train[0].shape)"
      ],
      "metadata": {
        "id": "SGzcRN30rNNv"
      },
      "execution_count": null,
      "outputs": []
    },
    {
      "cell_type": "markdown",
      "source": [
        "**4. Building a Convolutional Neural Network model.**"
      ],
      "metadata": {
        "id": "7fR5mEW_Ilkn"
      }
    },
    {
      "cell_type": "code",
      "source": [
        "def build_model(input_shape):\n",
        "    \"\"\"\n",
        "    Builds a Convolutional Neural Network model using TensorFlow and Keras.\n",
        "\n",
        "    Args:\n",
        "        input_shape: A tuple of integers representing the shape of the input data.\n",
        "\n",
        "    Returns:\n",
        "        model: A compiled CNN model using the input shape.\n",
        "    \"\"\"\n",
        "\n",
        "    # Creating a Sequential model\n",
        "    model = tf.keras.Sequential()\n",
        "\n",
        "    # Adding Conv2D layer with 8 filters and kernel size of (2,2) with relu activation function\n",
        "    # and the input shape\n",
        "    model.add(Conv2D(8, kernel_size=(2, 2), activation='relu', input_shape=input_shape))\n",
        "\n",
        "    # Adding MaxPooling2D layer\n",
        "    model.add(MaxPool2D())\n",
        "\n",
        "    # Adding BatchNormalization layer\n",
        "    model.add(BatchNormalization())\n",
        "\n",
        "    # Adding Conv2D layer with 4 filters and kernel size of (2,2) with relu activation function\n",
        "    model.add(Conv2D(4, kernel_size=(2, 2), activation='relu'))\n",
        "\n",
        "    # Adding MaxPooling2D layer\n",
        "    model.add(MaxPool2D())\n",
        "\n",
        "    # Adding Flatten layer\n",
        "    model.add(Flatten())\n",
        "\n",
        "    # Adding Dense layer with 5 output units\n",
        "    model.add(Dense(5))\n",
        "\n",
        "    # Adding Softmax activation function to the last Dense layer\n",
        "    model.add(Softmax(axis=1))\n",
        "\n",
        "    # Compiling the model\n",
        "    model.compile(optimizer='adam', loss='categorical_crossentropy', metrics=['accuracy'])\n",
        "\n",
        "    return model"
      ],
      "metadata": {
        "id": "2GaZNLIeFp9V"
      },
      "execution_count": null,
      "outputs": []
    },
    {
      "cell_type": "code",
      "source": [
        "# Reshaping the training audio data to have 4 dimensions: batch size, audio samples, audio channels, and time steps\n",
        "X_train = X_train.reshape(X_train.shape[0], X_train.shape[1], X_train.shape[2], 1)\n",
        "\n",
        "# Getting the shape of the first audio clip in the training data\n",
        "input_shape = X_train[0].shape\n",
        "\n",
        "# Reshaping the testing audio data to have 4 dimensions: batch size, audio samples, audio channels, and time steps\n",
        "X_test = X_test.reshape(X_test.shape[0], X_test.shape[1], X_test.shape[2], 1)\n",
        "\n",
        "# Building the CNN model using the input shape\n",
        "model = build_model(input_shape)\n",
        "\n",
        "# Defining the Adam optimizer with a learning rate of 0.001\n",
        "opt = tf.keras.optimizers.Adam(learning_rate = 0.001)\n",
        "\n",
        "# Compiling the model with the Adam optimizer, sparse categorical crossentropy loss function, and accuracy metric\n",
        "model.compile(optimizer=opt, loss='sparse_categorical_crossentropy', metrics=['accuracy'])\n",
        "\n",
        "# Training the model on the training data using a batch size of 2, 50 epochs, and shuffling the data before each epoch\n",
        "history = model.fit(X_train, y_train, batch_size= 5 , epochs = 30, shuffle = True)"
      ],
      "metadata": {
        "id": "iN2HLSs_FqHk",
        "colab": {
          "base_uri": "https://localhost:8080/"
        },
        "outputId": "6b12e52d-c4eb-42c4-97a6-960ce9840f32"
      },
      "execution_count": null,
      "outputs": [
        {
          "output_type": "stream",
          "name": "stdout",
          "text": [
            "Epoch 1/30\n",
            "13/13 [==============================] - 1s 14ms/step - loss: 2.2118 - accuracy: 0.2000\n",
            "Epoch 2/30\n",
            "13/13 [==============================] - 0s 12ms/step - loss: 1.5839 - accuracy: 0.3385\n",
            "Epoch 3/30\n",
            "13/13 [==============================] - 0s 12ms/step - loss: 1.4480 - accuracy: 0.4308\n",
            "Epoch 4/30\n",
            "13/13 [==============================] - 0s 12ms/step - loss: 1.3574 - accuracy: 0.4923\n",
            "Epoch 5/30\n",
            "13/13 [==============================] - 0s 14ms/step - loss: 1.2492 - accuracy: 0.5846\n",
            "Epoch 6/30\n",
            "13/13 [==============================] - 0s 13ms/step - loss: 1.1104 - accuracy: 0.6769\n",
            "Epoch 7/30\n",
            "13/13 [==============================] - 0s 12ms/step - loss: 1.0289 - accuracy: 0.6769\n",
            "Epoch 8/30\n",
            "13/13 [==============================] - 0s 12ms/step - loss: 0.9005 - accuracy: 0.7692\n",
            "Epoch 9/30\n",
            "13/13 [==============================] - 0s 13ms/step - loss: 0.8131 - accuracy: 0.8000\n",
            "Epoch 10/30\n",
            "13/13 [==============================] - 0s 14ms/step - loss: 0.7178 - accuracy: 0.8000\n",
            "Epoch 11/30\n",
            "13/13 [==============================] - 0s 13ms/step - loss: 0.6139 - accuracy: 0.8462\n",
            "Epoch 12/30\n",
            "13/13 [==============================] - 0s 14ms/step - loss: 0.5510 - accuracy: 0.8769\n",
            "Epoch 13/30\n",
            "13/13 [==============================] - 0s 12ms/step - loss: 0.4623 - accuracy: 0.9077\n",
            "Epoch 14/30\n",
            "13/13 [==============================] - 0s 14ms/step - loss: 0.4637 - accuracy: 0.8615\n",
            "Epoch 15/30\n",
            "13/13 [==============================] - 0s 13ms/step - loss: 0.3980 - accuracy: 0.9231\n",
            "Epoch 16/30\n",
            "13/13 [==============================] - 0s 13ms/step - loss: 0.3268 - accuracy: 0.9538\n",
            "Epoch 17/30\n",
            "13/13 [==============================] - 0s 12ms/step - loss: 0.2671 - accuracy: 0.9846\n",
            "Epoch 18/30\n",
            "13/13 [==============================] - 0s 13ms/step - loss: 0.2489 - accuracy: 0.9692\n",
            "Epoch 19/30\n",
            "13/13 [==============================] - 0s 12ms/step - loss: 0.2215 - accuracy: 0.9692\n",
            "Epoch 20/30\n",
            "13/13 [==============================] - 0s 14ms/step - loss: 0.1804 - accuracy: 0.9846\n",
            "Epoch 21/30\n",
            "13/13 [==============================] - 0s 12ms/step - loss: 0.1699 - accuracy: 0.9846\n",
            "Epoch 22/30\n",
            "13/13 [==============================] - 0s 12ms/step - loss: 0.1365 - accuracy: 1.0000\n",
            "Epoch 23/30\n",
            "13/13 [==============================] - 0s 12ms/step - loss: 0.1236 - accuracy: 0.9846\n",
            "Epoch 24/30\n",
            "13/13 [==============================] - 0s 14ms/step - loss: 0.1032 - accuracy: 1.0000\n",
            "Epoch 25/30\n",
            "13/13 [==============================] - 0s 12ms/step - loss: 0.1012 - accuracy: 1.0000\n",
            "Epoch 26/30\n",
            "13/13 [==============================] - 0s 12ms/step - loss: 0.0871 - accuracy: 1.0000\n",
            "Epoch 27/30\n",
            "13/13 [==============================] - 0s 13ms/step - loss: 0.0731 - accuracy: 1.0000\n",
            "Epoch 28/30\n",
            "13/13 [==============================] - 0s 12ms/step - loss: 0.0634 - accuracy: 1.0000\n",
            "Epoch 29/30\n",
            "13/13 [==============================] - 0s 12ms/step - loss: 0.0576 - accuracy: 1.0000\n",
            "Epoch 30/30\n",
            "13/13 [==============================] - 0s 14ms/step - loss: 0.0500 - accuracy: 1.0000\n"
          ]
        }
      ]
    },
    {
      "cell_type": "code",
      "source": [
        "# Evaluating the trained model on the testing data and get the test loss and test accuracy\n",
        "test_loss, test_acc = model.evaluate(X_test, y_test)"
      ],
      "metadata": {
        "id": "2zVZmibwFqNj",
        "colab": {
          "base_uri": "https://localhost:8080/"
        },
        "outputId": "62f902ff-aac3-4af2-c506-155e0a867b81"
      },
      "execution_count": null,
      "outputs": [
        {
          "output_type": "stream",
          "name": "stdout",
          "text": [
            "1/1 [==============================] - 0s 181ms/step - loss: 1.4738 - accuracy: 0.9000\n"
          ]
        }
      ]
    },
    {
      "cell_type": "code",
      "source": [
        "print(\"The Accuracy of Convolutional Neural Network model : \", test_acc * 100) #this accuracy was not constant it went low upto 40% also. "
      ],
      "metadata": {
        "id": "AtkH3um-FqQd",
        "colab": {
          "base_uri": "https://localhost:8080/"
        },
        "outputId": "072c148e-c91a-49ab-a905-7adff95213bc"
      },
      "execution_count": null,
      "outputs": [
        {
          "output_type": "stream",
          "name": "stdout",
          "text": [
            "The Accuracy of Convolutional Neural Network model :  89.9912 %\n"
          ]
        }
      ]
    },
    {
      "cell_type": "markdown",
      "source": [
        "**5. Building a LSTM Model.**"
      ],
      "metadata": {
        "id": "WgVETij1Fduh"
      }
    },
    {
      "cell_type": "code",
      "source": [
        "def bulid_model2(input_shape):\n",
        "  \"\"\"\n",
        "  This function defines and returns a Sequential model for training and testing on a given dataset.\n",
        "  It uses two LSTM layers with dropout and layer normalization, followed by two Dense layers and a Softmax output layer.\n",
        "\n",
        "  Args:\n",
        "  input_shape: A tuple representing the shape of the input data. It should have the format (timesteps, features).\n",
        "\n",
        "  Returns:\n",
        "  A Keras Sequential model with the specified architecture.\n",
        "\n",
        "  \"\"\"\n",
        "  \n",
        "  # Defining the Sequential model\n",
        "  model = tf.keras.Sequential()\n",
        "  \n",
        "  # Adding the first LSTM layer with 128 units, input shape, and return sequences\n",
        "  model.add(LSTM(128,input_shape = input_shape,return_sequences=True))\n",
        "  \n",
        "  # Adding a Dropout layer with a rate of 0.4\n",
        "  model.add(Dropout(0.4))\n",
        "  \n",
        "  # Adding a LayerNormalization layer\n",
        "  model.add(LayerNormalization())\n",
        "  \n",
        "  # Adding the second LSTM layer with 64 units\n",
        "  model.add(LSTM(64))\n",
        "  \n",
        "  # Adding a Dense layer with 32 units\n",
        "  model.add(Dense(32))\n",
        "  \n",
        "  # Adding a second Dense layer with 2 units for the output\n",
        "  model.add(Dense(5))\n",
        "  \n",
        "  # Adding a Softmax activation function to the output layer\n",
        "  model.add(Softmax(axis=1))\n",
        "  \n",
        "  # Returning the completed model\n",
        "  return model"
      ],
      "metadata": {
        "id": "hnBhwREqFqS_"
      },
      "execution_count": null,
      "outputs": []
    },
    {
      "cell_type": "code",
      "source": [
        "X_train = tf.keras.preprocessing.sequence.pad_sequences(X_train,maxlen=258)\n",
        "X_test = tf.keras.preprocessing.sequence.pad_sequences(X_test,maxlen=258)\n",
        "y_train = np.array(y_train)\n",
        "y_test = np.array(y_test)"
      ],
      "metadata": {
        "id": "0yZENajQaAlV"
      },
      "execution_count": null,
      "outputs": []
    },
    {
      "cell_type": "code",
      "source": [
        "X_train = X_train.reshape(X_train.shape[0], X_train.shape[1], X_train.shape[2])\n",
        "input_shape = X_train[0].shape\n",
        "# Definng the model architecture using the `bulid_model2` function with the given input shape\n",
        "model2 = bulid_model2(input_shape)\n",
        "\n",
        "# Defining the Adam optimizer with a learning rate of 0.001\n",
        "opt = tf.keras.optimizers.Adam(learning_rate=0.001)\n",
        "\n",
        "# Compiling the model with the specified optimizer, loss function, and metrics\n",
        "model2.compile(optimizer=opt, loss='sparse_categorical_crossentropy', metrics=['accuracy'])\n",
        "\n",
        "# Training the model on the training data (`X_train` and `y_train`) for 50 epochs, using a batch size of 8\n",
        "history = model2.fit(X_train, y_train, batch_size = 5 , epochs = 10)\n",
        "\n",
        "# The `fit` method performs backpropagation to update the model parameters (weights and biases) based on the training data\n",
        "# The loss and accuracy metrics for each epoch are recorded in the `history` object"
      ],
      "metadata": {
        "id": "1Dtx4UzrFqVj",
        "colab": {
          "base_uri": "https://localhost:8080/"
        },
        "outputId": "dc873926-58ad-4acd-b8b9-4b2c74d76348"
      },
      "execution_count": null,
      "outputs": [
        {
          "output_type": "stream",
          "name": "stdout",
          "text": [
            "Epoch 1/10\n",
            "13/13 [==============================] - 8s 233ms/step - loss: 1.6744 - accuracy: 0.2923\n",
            "Epoch 2/10\n",
            "13/13 [==============================] - 3s 234ms/step - loss: 1.1676 - accuracy: 0.6154\n",
            "Epoch 3/10\n",
            "13/13 [==============================] - 3s 232ms/step - loss: 0.8727 - accuracy: 0.7692\n",
            "Epoch 4/10\n",
            "13/13 [==============================] - 4s 301ms/step - loss: 0.5312 - accuracy: 0.8923\n",
            "Epoch 5/10\n",
            "13/13 [==============================] - 4s 270ms/step - loss: 0.2795 - accuracy: 0.9538\n",
            "Epoch 6/10\n",
            "13/13 [==============================] - 3s 235ms/step - loss: 0.1300 - accuracy: 0.9846\n",
            "Epoch 7/10\n",
            "13/13 [==============================] - 3s 234ms/step - loss: 0.0868 - accuracy: 0.9692\n",
            "Epoch 8/10\n",
            "13/13 [==============================] - 3s 263ms/step - loss: 0.0500 - accuracy: 1.0000\n",
            "Epoch 9/10\n",
            "13/13 [==============================] - 4s 306ms/step - loss: 0.0235 - accuracy: 1.0000\n",
            "Epoch 10/10\n",
            "13/13 [==============================] - 3s 233ms/step - loss: 0.0123 - accuracy: 1.0000\n"
          ]
        }
      ]
    },
    {
      "cell_type": "code",
      "source": [
        "# Evaluating the trained model on the testing data and get the test loss and test accuracy\n",
        "test_loss, test_acc = model2.evaluate(X_test, y_test)"
      ],
      "metadata": {
        "id": "LZETk3v_FqXj",
        "colab": {
          "base_uri": "https://localhost:8080/"
        },
        "outputId": "30b6e102-9c46-48f7-a95b-d1c0802fcfb3"
      },
      "execution_count": null,
      "outputs": [
        {
          "output_type": "stream",
          "name": "stdout",
          "text": [
            "1/1 [==============================] - 1s 1s/step - loss: 0.0457 - accuracy: 1.0000\n"
          ]
        }
      ]
    },
    {
      "cell_type": "code",
      "source": [
        "print(\"The Accuracy of LSTM model : \", test_acc * 100)"
      ],
      "metadata": {
        "id": "qUo6VkRtFqaN",
        "colab": {
          "base_uri": "https://localhost:8080/"
        },
        "outputId": "a6a02a16-cc7e-403d-f74c-5e183bed45b4"
      },
      "execution_count": null,
      "outputs": [
        {
          "output_type": "stream",
          "name": "stdout",
          "text": [
            "The Accuracy of LSTM model :  100.0 % \n"
          ]
        }
      ]
    }
  ]
}