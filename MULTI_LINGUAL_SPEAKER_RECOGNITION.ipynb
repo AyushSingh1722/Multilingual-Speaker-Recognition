{
  "nbformat": 4,
  "nbformat_minor": 0,
  "metadata": {
    "colab": {
      "provenance": []
    },
    "kernelspec": {
      "name": "python3",
      "display_name": "Python 3"
    },
    "language_info": {
      "name": "python"
    }
  },
  "cells": [
    {
      "cell_type": "markdown",
      "source": [
        "**1. Importing Libraries.**"
      ],
      "metadata": {
        "id": "Cy0EiCfD6yL2"
      }
    },
    {
      "cell_type": "code",
      "execution_count": 1,
      "metadata": {
        "id": "4bt0TCE06X5B"
      },
      "outputs": [],
      "source": [
        "import numpy as np\n",
        "import pandas as pd\n",
        "import librosa\n",
        "import glob\n",
        "import tensorflow as tf\n",
        "from tensorflow import keras\n",
        "from keras.layers import Dense , LSTM , Dropout , Softmax , LayerNormalization , Conv2D , MaxPool2D , Flatten , BatchNormalization\n",
        "from sklearn.neighbors import KNeighborsClassifier\n",
        "import matplotlib.pyplot as plt"
      ]
    },
    {
      "cell_type": "markdown",
      "source": [
        "**2. Analyzing the mean length of audio files in the data.**"
      ],
      "metadata": {
        "id": "LCJYDfG_pozx"
      }
    },
    {
      "cell_type": "code",
      "source": [
        "def mean_audio_length():\n",
        "    \"\"\"\n",
        "    This function finds the mean length of all the audios.\n",
        "    \"\"\"\n",
        "    # Creating an empty list to store the lengths of each audio file\n",
        "    audio_length = []\n",
        "    \n",
        "    # Creating a list of class names\n",
        "    classes = ['Aditya_english','Aditya_hindi' ,'Viashali_english','Viashali_hindi', 'Preeti_english','Preeti_hindi', 'Alice_english','Alice_hindi' , 'Srinath_english','Srinath_hindi']\n",
        "    \n",
        "    # Iterating over each class\n",
        "    for i in classes:\n",
        "        # Creating a file path string that includes the class name\n",
        "        audio_path = '/content/drive/MyDrive/EXPERIMENT 4 (MINI)/' + str(i) + '/*'\n",
        "      \n",
        "        \n",
        "        # Using glob to find all audio files that match the file path pattern\n",
        "        audio_files = glob.glob(audio_path)\n",
        "    \n",
        "        \n",
        "        # Iterating over each audio file in the list of matching files\n",
        "        for j in range(len(audio_files)):\n",
        "            # Loading the audio file into a NumPy array using librosa\n",
        "            audio , sr = librosa.load(audio_files[j])\n",
        "            \n",
        "            # Appending the length of the audio file to the list of audio lengths\n",
        "            audio_length.append(len(audio))\n",
        "            # print(audio_length)\n",
        "            \n",
        "            # Optional: Printing the length of each audio file as it's processed\n",
        "            # print(len(audio))\n",
        "    \n",
        "    # Calculate the mean length of\" all audio files in the list\n",
        "    return np.mean(audio_length)"
      ],
      "metadata": {
        "id": "urwsE3Ba7bbk"
      },
      "execution_count": 7,
      "outputs": []
    },
    {
      "cell_type": "code",
      "source": [
        "mean_length = mean_audio_length()\n",
        "print(\"Mean length of all the collected audios is :\", mean_length)"
      ],
      "metadata": {
        "id": "8cFtVb7NrM5j",
        "colab": {
          "base_uri": "https://localhost:8080/"
        },
        "outputId": "bdbda9c6-234d-4001-b7ab-5035b147aab9"
      },
      "execution_count": 8,
      "outputs": [
        {
          "output_type": "stream",
          "name": "stdout",
          "text": [
            "Mean length of all the collected audios is : 45880.04\n"
          ]
        }
      ]
    },
    {
      "cell_type": "markdown",
      "source": [
        "**3. Preparing the Training and Testing Data for the KNN Model.**"
      ],
      "metadata": {
        "id": "gene3JjXD1VW"
      }
    },
    {
      "cell_type": "code",
      "source": [
        "def audio_data_knn(mean_length):\n",
        "  # Create empty dictionaries to store the training and testing data\n",
        "  data_train = {'labels':[],\n",
        "                'mfcc':[]}\n",
        "  data_test = {'labels':[],\n",
        "                'mfcc':[]}\n",
        "  \n",
        "  # Define a list of class names\n",
        "  classes = ['Aditya_english','Aditya_hindi' ,'Viashali_english','Viashali_hindi', 'Preeti_english','Preeti_hindi', 'Alice_english','Alice_hindi' , 'Srinath_english','Srinath_hindi']\n",
        "  \n",
        "  # Loop over each class\n",
        "  for i in classes:\n",
        "      # Set the path to the directory containing the audio files for this class\n",
        "      audio_path = '/content/drive/MyDrive/EXPERIMENT 4 (MINI)/' + str(i) + '/*'\n",
        "      # Use the glob function to get a list of audio files in the directory\n",
        "      audio_files = glob.glob(audio_path)\n",
        "      # Loop over all audio files except the last one (used for testing)\n",
        "      for j in range(len(audio_files)-2):\n",
        "        # Load the audio file using librosa\n",
        "        audio,sr = librosa.load(audio_files[j])\n",
        "        # If the audio file is longer than the mean length, truncate it\n",
        "        if len(audio)>mean_length:\n",
        "          audio = audio[0:int(mean_length)]\n",
        "        # If the audio file is shorter than the mean length, pad it with zeros\n",
        "        if len(audio)<mean_length:\n",
        "          diff = int(mean_length) - len(audio)\n",
        "          audio = np.pad(audio,(0,diff))\n",
        "        # Compute the MFCC features for the audio file\n",
        "        mfcc = librosa.feature.mfcc(y=audio,sr=sr,n_mfcc=8)\n",
        "        # Add the MFCC features and label to the training data dictionary\n",
        "        data_train['mfcc'].append(mfcc.flatten())\n",
        "        data_train['labels'].append(i)\n",
        "      # Load the last 2 audio file in the directory (used for testing)\n",
        "      for k in range(len(audio_files)-1,len(audio_files)):\n",
        "        audio,sr = librosa.load(audio_files[k])\n",
        "        # If the audio file is longer than the mean length, truncate it\n",
        "        if len(audio)>mean_length:\n",
        "          audio = audio[0:int(mean_length)]\n",
        "        # If the audio file is shorter than the mean length, pad it with zeros\n",
        "        if len(audio)<mean_length:\n",
        "          diff = int(mean_length) - len(audio)\n",
        "          audio = np.pad(audio,(0,diff))\n",
        "        # Compute the MFCC features for the audio file\n",
        "        mfcc = librosa.feature.mfcc(y=audio,sr=sr,n_mfcc = 8)\n",
        "        # Add the MFCC features and label to the testing data dictionary\n",
        "        data_test['mfcc'].append(mfcc.flatten())\n",
        "        data_test['labels'].append(i)\n",
        "  # Return the training and testing data dictionaries\n",
        "  return data_train,data_test"
      ],
      "metadata": {
        "id": "kXUXsfZtf35n"
      },
      "execution_count": 9,
      "outputs": []
    },
    {
      "cell_type": "code",
      "source": [
        "# Call the audio_data_knn function with the mean_length argument to get the training and testing data.\n",
        "knn_train_data , knn_test_data = audio_data_knn(mean_length)"
      ],
      "metadata": {
        "id": "0_icZ0nTgQnh"
      },
      "execution_count": 10,
      "outputs": []
    },
    {
      "cell_type": "code",
      "source": [
        "X_knn_train = knn_train_data['mfcc']\n",
        "X_knn_test = knn_test_data['mfcc']\n",
        "y_knn_train = knn_train_data['labels']\n",
        "y_knn_test = knn_test_data['labels']"
      ],
      "metadata": {
        "id": "BRtGB7X8gxSM"
      },
      "execution_count": 11,
      "outputs": []
    },
    {
      "cell_type": "code",
      "source": [
        "# Ensuring that all sequences in the dataset have the same length\n",
        "X_knn_train = tf.keras.preprocessing.sequence.pad_sequences(X_knn_train)\n",
        "X_knn_test = tf.keras.preprocessing.sequence.pad_sequences(X_knn_test)"
      ],
      "metadata": {
        "id": "IqfqU2Cug2oH"
      },
      "execution_count": 12,
      "outputs": []
    },
    {
      "cell_type": "code",
      "source": [
        "X_knn_train.shape"
      ],
      "metadata": {
        "colab": {
          "base_uri": "https://localhost:8080/"
        },
        "id": "Ak-U93TCiP_y",
        "outputId": "36fd7c7f-04ec-4990-d32b-33b01748fbcd"
      },
      "execution_count": 13,
      "outputs": [
        {
          "output_type": "execute_result",
          "data": {
            "text/plain": [
              "(130, 720)"
            ]
          },
          "metadata": {},
          "execution_count": 13
        }
      ]
    },
    {
      "cell_type": "code",
      "source": [
        "mapping = {'Aditya_english' : 0,'Aditya_hindi' : 1,'Viashali_english': 2,'Viashali_hindi': 3, 'Preeti_english': 4,'Preeti_hindi': 5, 'Alice_english' : 6,'Alice_hindi' : 7 , 'Srinath_english' : 8,'Srinath_hindi' : 9}\n",
        "\n",
        "# convert y_knn_train to a Pandas DataFrame and assign it to y_knn_train\n",
        "y_knn_train = pd.DataFrame(y_knn_train)\n",
        "\n",
        "# replace the values in y_knn_train using the provided mapping dictionary and assign it to y_knn_train\n",
        "y_knn_train = y_knn_train.replace(mapping)\n",
        "\n",
        "# convert y_knn_train to a numpy array and assign it back to y_knn_train\n",
        "y_knn_train = np.array(y_knn_train)\n",
        "\n",
        "# convert y_knn_test to a Pandas DataFrame and assign it to y_knn_test\n",
        "y_knn_test = pd.DataFrame(y_knn_test)\n",
        "\n",
        "# replace the values in y_knn_test using the provided mapping dictionary and assign it to y_knn_test\n",
        "y_knn_test = y_knn_test.replace(mapping)\n",
        "\n",
        "# convert y_knn_test to a numpy array and assign it back to y_knn_test\n",
        "y_knn_test = np.array(y_knn_test)"
      ],
      "metadata": {
        "id": "14i_hQuSiTR0"
      },
      "execution_count": 15,
      "outputs": []
    },
    {
      "cell_type": "code",
      "source": [
        "k_values = []\n",
        "accuracies = []\n",
        "\n",
        "for i in range(1, 25):\n",
        "    # create a KNeighborsClassifier object with i neighbors and assign it to knn_classifier\n",
        "    knn_classifier = KNeighborsClassifier(n_neighbors=i)\n",
        "\n",
        "    # fit the knn_classifier on the training data X_knn_train and y_knn_train\n",
        "    knn_classifier.fit(X_knn_train, y_knn_train.reshape(-1))\n",
        "\n",
        "    # calculate the accuracy of the knn_classifier on the test data\n",
        "    accuracy = knn_classifier.score(X_knn_test, y_knn_test)\n",
        "\n",
        "    # add the k value and accuracy to the corresponding lists\n",
        "    k_values.append(i)\n",
        "    accuracies.append(accuracy)\n",
        "\n",
        "# print the average accuracy\n",
        "print('Average accuracy:', np.mean(accuracies))\n",
        "\n",
        "# create a line plot of the accuracies vs the k values\n",
        "plt.plot(k_values, accuracies)\n",
        "plt.xlabel('Value of K')\n",
        "plt.ylabel('Accuracy')\n",
        "plt.title('K-Nearest Neighbors Classifier Accuracy vs K Value')\n",
        "plt.show()"
      ],
      "metadata": {
        "colab": {
          "base_uri": "https://localhost:8080/",
          "height": 489
        },
        "id": "jJODnM0OlB_a",
        "outputId": "f8e96baa-506c-4170-aefb-436a135244e0"
      },
      "execution_count": 18,
      "outputs": [
        {
          "output_type": "stream",
          "name": "stdout",
          "text": [
            "Average accuracy: 0.48333333333333334\n"
          ]
        },
        {
          "output_type": "display_data",
          "data": {
            "text/plain": [
              "<Figure size 640x480 with 1 Axes>"
            ],
            "image/png": "[encoded data removed]"
          },
          "metadata": {}
        }
      ]
    },
    {
      "cell_type": "code",
      "source": [
        "knn_classifier = KNeighborsClassifier(n_neighbors=4)\n",
        "knn_classifier.fit(X_knn_train, y_knn_train.reshape(-1))\n",
        "print(\"The Best Accuracy of K-Nearest Neighbour model :\" , knn_classifier.score(X_knn_test,y_knn_test) * 100 ,\"%\")"
      ],
      "metadata": {
        "colab": {
          "base_uri": "https://localhost:8080/"
        },
        "id": "A2jOAhbAjOEo",
        "outputId": "670f29c7-5a18-49cc-e33a-02dcb957f845"
      },
      "execution_count": 19,
      "outputs": [
        {
          "output_type": "stream",
          "name": "stdout",
          "text": [
            "The Best Accuracy of K-Nearest Neighbour model : 70.0 %\n"
          ]
        }
      ]
    },
    {
      "cell_type": "markdown",
      "source": [
        "**3. Preparing the Training and Testing Data for the CNN Model.**"
      ],
      "metadata": {
        "id": "RvIrgDiMljQ-"
      }
    },
    {
      "cell_type": "code",
      "source": [
        "def audio_data(mean_length):\n",
        "\n",
        "  \"\"\"\n",
        "  This function takes the mean audio length of all data and returns the train and test data. \n",
        "\n",
        "  \"\"\"\n",
        "  \n",
        "  # Creating two empty dictionaries for training and testing data with 'labels' and 'mfcc' keys\n",
        "  data_train = {'labels':[],'mfcc':[]}\n",
        "  data_test = {'labels':[],'mfcc':[]}\n",
        "  \n",
        "  # Defining a list of class names\n",
        "  classes = ['Aditya_english','Aditya_hindi' ,'Viashali_english','Viashali_hindi', 'Preeti_english','Preeti_hindi', 'Alice_english','Alice_hindi' , 'Srinath_english','Srinath_hindi']\n",
        "  \n",
        "  # Looping through each class\n",
        "  for i in classes:\n",
        "    \n",
        "    # Creating a string of file paths for each class\n",
        "    audio_path = '/content/drive/MyDrive/EXPERIMENT 4 (MINI)/' + str(i) + '/*'\n",
        "    \n",
        "    # Getting a list of all audio files in the directory\n",
        "    audio_files = glob.glob(audio_path)\n",
        "    \n",
        "    # Looping through each audio file except for the last one (which will be used for testing)\n",
        "    for j in range(len(audio_files)-2):\n",
        "      \n",
        "      # Loading the audio file using librosa library and its corresponding sample rate\n",
        "      audio,sr = librosa.load(audio_files[j])\n",
        "      \n",
        "      # If the audio is longer than the mean_length, then trimming it\n",
        "      if len(audio)>mean_length:\n",
        "        audio = audio[0:int(mean_length)]\n",
        "        \n",
        "      # If the audio is shorter than the mean_length, then padding it with zeros\n",
        "      if len(audio)<mean_length:\n",
        "        diff = int(mean_length) - len(audio)\n",
        "        audio = np.pad(audio,(0,diff))\n",
        "      \n",
        "      # Computing the MFCC features of the audio signal\n",
        "      mfcc = librosa.feature.mfcc(y=audio,sr=sr)\n",
        "      \n",
        "      # Appending the MFCC features and the corresponding label to the training data dictionary\n",
        "      data_train['mfcc'].append(mfcc.T)\n",
        "      data_train['labels'].append(i)\n",
        "      \n",
        "    # Loading the last audio file in the directory for testing\n",
        "    for k in range(len(audio_files)-2,len(audio_files)):\n",
        "      \n",
        "      # Loading the audio file using librosa library and its corresponding sample rate\n",
        "      audio,sr = librosa.load(audio_files[k])\n",
        "      \n",
        "      # If the audio is longer than the mean_length, then trimming it\n",
        "      if len(audio)>mean_length:\n",
        "        audio = audio[0:int(mean_length)]\n",
        "        \n",
        "      # If the audio is shorter than the mean_length, then padding it with zeros\n",
        "      if len(audio)<mean_length:\n",
        "        diff = int(mean_length) - len(audio)\n",
        "        audio = np.pad(audio,(0,diff))\n",
        "      \n",
        "      # Computing the MFCC features of the audio signal\n",
        "      mfcc = librosa.feature.mfcc(y=audio,sr=sr)\n",
        "      \n",
        "      # Appending the MFCC features and the corresponding label to the testing data dictionary\n",
        "      data_test['mfcc'].append(mfcc.T)\n",
        "      data_test['labels'].append(i)\n",
        "  \n",
        "  # Returning the training and testing data dictionaries\n",
        "  return data_train, data_test"
      ],
      "metadata": {
        "id": "UwlsTxhArM9k"
      },
      "execution_count": 20,
      "outputs": []
    },
    {
      "cell_type": "code",
      "source": [
        "# Storing the obtained train and test data.\n",
        "train_data , test_data = audio_data(mean_length)\n",
        "\n",
        "X_train = train_data['mfcc']\n",
        "y_train = train_data['labels']\n",
        "X_test = test_data['mfcc']\n",
        "y_test = test_data['labels']"
      ],
      "metadata": {
        "id": "RxsbY7YTrNAa"
      },
      "execution_count": 21,
      "outputs": []
    },
    {
      "cell_type": "code",
      "source": [
        "# Ensuring that all sequences in the dataset have the same length\n",
        "# Padding the sequences in X_train to a maximum length of 44\n",
        "X_train = tf.keras.preprocessing.sequence.pad_sequences(X_train, maxlen=44)\n",
        "\n",
        "# Padding the sequences in X_test to a maximum length of 44\n",
        "X_test = tf.keras.preprocessing.sequence.pad_sequences(X_test, maxlen=44)"
      ],
      "metadata": {
        "id": "9LAvcD20rNE2"
      },
      "execution_count": 22,
      "outputs": []
    },
    {
      "cell_type": "code",
      "source": [
        "X_train.shape"
      ],
      "metadata": {
        "colab": {
          "base_uri": "https://localhost:8080/"
        },
        "id": "LsHOytWlfH98",
        "outputId": "9d24979d-6638-4cf5-96dd-470d624c704f"
      },
      "execution_count": 23,
      "outputs": [
        {
          "output_type": "execute_result",
          "data": {
            "text/plain": [
              "(130, 44, 20)"
            ]
          },
          "metadata": {},
          "execution_count": 23
        }
      ]
    },
    {
      "cell_type": "code",
      "source": [
        "# preprocessing step where categorical labels are mapped to numerical values, so that they can be used as inputs to the model.\n",
        "mapping = {'Aditya_english' : 0,'Aditya_hindi' : 1,'Viashali_english': 2,'Viashali_hindi': 3, 'Preeti_english': 4,'Preeti_hindi': 5, 'Alice_english' : 6,'Alice_hindi' : 7 , 'Srinath_english' : 8,'Srinath_hindi' : 9}\n",
        "   # creating a dictionary that maps class names to integers\n",
        "\n",
        "y_train = pd.DataFrame(y_train)    # converting y_train to a pandas dataframe\n",
        "y_train = y_train.replace(mapping)    # replacing the class names in y_train with their integer mappings\n",
        "y_train = np.array(y_train)    # converting y_train to a numpy array\n",
        "\n",
        "y_test = pd.DataFrame(y_test)    # converting y_test to a pandas dataframe\n",
        "y_test = y_test.replace(mapping)    # replacing the class names in y_test with their integer mappings\n",
        "y_test = np.array(y_test)    # converting y_test to a numpy array"
      ],
      "metadata": {
        "id": "8aJeWwVqrNLW"
      },
      "execution_count": 24,
      "outputs": []
    },
    {
      "cell_type": "code",
      "source": [
        "# print(\"y_train :\",y_train)\n",
        "# print(\"Shape of X_train :\",X_train.shape)\n",
        "# print(\"Shape of sample data :\",X_train[0].shape)"
      ],
      "metadata": {
        "id": "SGzcRN30rNNv"
      },
      "execution_count": null,
      "outputs": []
    },
    {
      "cell_type": "markdown",
      "source": [
        "**4. Building a Convolutional Neural Network model.**"
      ],
      "metadata": {
        "id": "7fR5mEW_Ilkn"
      }
    },
    {
      "cell_type": "code",
      "source": [
        "def build_model(input_shape):\n",
        "    \"\"\"\n",
        "    Builds a Convolutional Neural Network model using TensorFlow and Keras.\n",
        "\n",
        "    Args:\n",
        "        input_shape: A tuple of integers representing the shape of the input data.\n",
        "\n",
        "    Returns:\n",
        "        model: A compiled CNN model using the input shape.\n",
        "    \"\"\"\n",
        "\n",
        "    # Creating a Sequential model\n",
        "    model = tf.keras.Sequential()\n",
        "\n",
        "    # Adding Conv2D layer with 8 filters and kernel size of (2,2) with relu activation function\n",
        "    # and the input shape\n",
        "    model.add(Conv2D(8, kernel_size=(2, 2), activation='relu', input_shape=input_shape))\n",
        "\n",
        "    # Adding MaxPooling2D layer\n",
        "    model.add(MaxPool2D())\n",
        "\n",
        "    # Adding BatchNormalization layer\n",
        "    model.add(BatchNormalization())\n",
        "\n",
        "    # Adding Conv2D layer with 4 filters and kernel size of (2,2) with relu activation function\n",
        "    model.add(Conv2D(4, kernel_size=(2, 2), activation='relu'))\n",
        "\n",
        "    # Adding MaxPooling2D layer\n",
        "    model.add(MaxPool2D())\n",
        "\n",
        "    # Adding Flatten layer\n",
        "    model.add(Flatten())\n",
        "\n",
        "    # Adding Dense layer with 5 output units\n",
        "    model.add(Dense(10))\n",
        "\n",
        "    # Adding Softmax activation function to the last Dense layer\n",
        "    model.add(Softmax(axis=1))\n",
        "\n",
        "    # Compiling the model\n",
        "    model.compile(optimizer='adam', loss='categorical_crossentropy', metrics=['accuracy'])\n",
        "\n",
        "    return model"
      ],
      "metadata": {
        "id": "2GaZNLIeFp9V"
      },
      "execution_count": 28,
      "outputs": []
    },
    {
      "cell_type": "code",
      "source": [
        "# Reshaping the training audio data to have 4 dimensions: batch size, audio samples, audio channels, and time steps\n",
        "X_train = X_train.reshape(X_train.shape[0], X_train.shape[1], X_train.shape[2], 1)\n",
        "\n",
        "# Getting the shape of the first audio clip in the training data\n",
        "input_shape = X_train[0].shape\n",
        "\n",
        "# Reshaping the testing audio data to have 4 dimensions: batch size, audio samples, audio channels, and time steps\n",
        "X_test = X_test.reshape(X_test.shape[0], X_test.shape[1], X_test.shape[2], 1)\n",
        "\n",
        "# Building the CNN model using the input shape\n",
        "model = build_model(input_shape)\n",
        "\n",
        "# Defining the Adam optimizer with a learning rate of 0.001\n",
        "opt = tf.keras.optimizers.Adam(learning_rate = 0.003)\n",
        "\n",
        "# Compiling the model with the Adam optimizer, sparse categorical crossentropy loss function, and accuracy metric\n",
        "model.compile(optimizer=opt, loss='sparse_categorical_crossentropy', metrics=['accuracy'])\n",
        "\n",
        "# Training the model on the training data using a batch size of 2, 50 epochs, and shuffling the data before each epoch\n",
        "history = model.fit(X_train, y_train, batch_size= 10 , epochs = 40 , shuffle = True)"
      ],
      "metadata": {
        "id": "iN2HLSs_FqHk",
        "colab": {
          "base_uri": "https://localhost:8080/"
        },
        "outputId": "2f05a6a9-0f88-4216-e778-d2a1cb4628a9"
      },
      "execution_count": 47,
      "outputs": [
        {
          "output_type": "stream",
          "name": "stdout",
          "text": [
            "Epoch 1/40\n",
            "13/13 [==============================] - 1s 9ms/step - loss: 2.4964 - accuracy: 0.0846\n",
            "Epoch 2/40\n",
            "13/13 [==============================] - 0s 10ms/step - loss: 2.1742 - accuracy: 0.1923\n",
            "Epoch 3/40\n",
            "13/13 [==============================] - 0s 10ms/step - loss: 2.0179 - accuracy: 0.3231\n",
            "Epoch 4/40\n",
            "13/13 [==============================] - 0s 9ms/step - loss: 1.8231 - accuracy: 0.4077\n",
            "Epoch 5/40\n",
            "13/13 [==============================] - 0s 9ms/step - loss: 1.6203 - accuracy: 0.4846\n",
            "Epoch 6/40\n",
            "13/13 [==============================] - 0s 9ms/step - loss: 1.4090 - accuracy: 0.5538\n",
            "Epoch 7/40\n",
            "13/13 [==============================] - 0s 9ms/step - loss: 1.2301 - accuracy: 0.6385\n",
            "Epoch 8/40\n",
            "13/13 [==============================] - 0s 10ms/step - loss: 1.0814 - accuracy: 0.6462\n",
            "Epoch 9/40\n",
            "13/13 [==============================] - 0s 10ms/step - loss: 0.9434 - accuracy: 0.7000\n",
            "Epoch 10/40\n",
            "13/13 [==============================] - 0s 9ms/step - loss: 0.7868 - accuracy: 0.7769\n",
            "Epoch 11/40\n",
            "13/13 [==============================] - 0s 9ms/step - loss: 0.6457 - accuracy: 0.8154\n",
            "Epoch 12/40\n",
            "13/13 [==============================] - 0s 9ms/step - loss: 0.5801 - accuracy: 0.8231\n",
            "Epoch 13/40\n",
            "13/13 [==============================] - 0s 10ms/step - loss: 0.5080 - accuracy: 0.8615\n",
            "Epoch 14/40\n",
            "13/13 [==============================] - 0s 10ms/step - loss: 0.3995 - accuracy: 0.9154\n",
            "Epoch 15/40\n",
            "13/13 [==============================] - 0s 10ms/step - loss: 0.3456 - accuracy: 0.9154\n",
            "Epoch 16/40\n",
            "13/13 [==============================] - 0s 10ms/step - loss: 0.3073 - accuracy: 0.9385\n",
            "Epoch 17/40\n",
            "13/13 [==============================] - 0s 9ms/step - loss: 0.2839 - accuracy: 0.9385\n",
            "Epoch 18/40\n",
            "13/13 [==============================] - 0s 10ms/step - loss: 0.2406 - accuracy: 0.9462\n",
            "Epoch 19/40\n",
            "13/13 [==============================] - 0s 8ms/step - loss: 0.2377 - accuracy: 0.9462\n",
            "Epoch 20/40\n",
            "13/13 [==============================] - 0s 9ms/step - loss: 0.2110 - accuracy: 0.9462\n",
            "Epoch 21/40\n",
            "13/13 [==============================] - 0s 9ms/step - loss: 0.1620 - accuracy: 0.9692\n",
            "Epoch 22/40\n",
            "13/13 [==============================] - 0s 8ms/step - loss: 0.1488 - accuracy: 0.9692\n",
            "Epoch 23/40\n",
            "13/13 [==============================] - 0s 6ms/step - loss: 0.1378 - accuracy: 0.9692\n",
            "Epoch 24/40\n",
            "13/13 [==============================] - 0s 6ms/step - loss: 0.1243 - accuracy: 0.9692\n",
            "Epoch 25/40\n",
            "13/13 [==============================] - 0s 6ms/step - loss: 0.1087 - accuracy: 0.9769\n",
            "Epoch 26/40\n",
            "13/13 [==============================] - 0s 7ms/step - loss: 0.0980 - accuracy: 0.9923\n",
            "Epoch 27/40\n",
            "13/13 [==============================] - 0s 6ms/step - loss: 0.0845 - accuracy: 0.9846\n",
            "Epoch 28/40\n",
            "13/13 [==============================] - 0s 6ms/step - loss: 0.0946 - accuracy: 0.9769\n",
            "Epoch 29/40\n",
            "13/13 [==============================] - 0s 6ms/step - loss: 0.0700 - accuracy: 0.9923\n",
            "Epoch 30/40\n",
            "13/13 [==============================] - 0s 7ms/step - loss: 0.0693 - accuracy: 0.9923\n",
            "Epoch 31/40\n",
            "13/13 [==============================] - 0s 6ms/step - loss: 0.0613 - accuracy: 0.9923\n",
            "Epoch 32/40\n",
            "13/13 [==============================] - 0s 6ms/step - loss: 0.0605 - accuracy: 0.9923\n",
            "Epoch 33/40\n",
            "13/13 [==============================] - 0s 7ms/step - loss: 0.0612 - accuracy: 0.9923\n",
            "Epoch 34/40\n",
            "13/13 [==============================] - 0s 6ms/step - loss: 0.0596 - accuracy: 0.9923\n",
            "Epoch 35/40\n",
            "13/13 [==============================] - 0s 6ms/step - loss: 0.0472 - accuracy: 1.0000\n",
            "Epoch 36/40\n",
            "13/13 [==============================] - 0s 6ms/step - loss: 0.0452 - accuracy: 0.9923\n",
            "Epoch 37/40\n",
            "13/13 [==============================] - 0s 7ms/step - loss: 0.0490 - accuracy: 0.9923\n",
            "Epoch 38/40\n",
            "13/13 [==============================] - 0s 6ms/step - loss: 0.0440 - accuracy: 0.9923\n",
            "Epoch 39/40\n",
            "13/13 [==============================] - 0s 6ms/step - loss: 0.0377 - accuracy: 1.0000\n",
            "Epoch 40/40\n",
            "13/13 [==============================] - 0s 6ms/step - loss: 0.0362 - accuracy: 0.9923\n"
          ]
        }
      ]
    },
    {
      "cell_type": "code",
      "source": [
        "# Evaluating the trained model on the testing data and get the test loss and test accuracy\n",
        "test_loss, test_acc = model.evaluate(X_test, y_test)"
      ],
      "metadata": {
        "id": "2zVZmibwFqNj",
        "colab": {
          "base_uri": "https://localhost:8080/"
        },
        "outputId": "6c8c786d-0ff4-4a33-bf85-4da347d2a297"
      },
      "execution_count": 48,
      "outputs": [
        {
          "output_type": "stream",
          "name": "stdout",
          "text": [
            "1/1 [==============================] - 0s 160ms/step - loss: 1.8746 - accuracy: 0.4000\n"
          ]
        }
      ]
    },
    {
      "cell_type": "code",
      "source": [
        "print(\"The Accuracy of Convolutional Neural Network model : \", test_acc * 100 , \"%\") "
      ],
      "metadata": {
        "id": "AtkH3um-FqQd",
        "colab": {
          "base_uri": "https://localhost:8080/"
        },
        "outputId": "070bc2bc-da49-4446-9991-12696115189a"
      },
      "execution_count": 50,
      "outputs": [
        {
          "output_type": "stream",
          "name": "stdout",
          "text": [
            "The Accuracy of Convolutional Neural Network model :  40.00000059604645 %\n"
          ]
        }
      ]
    },
    {
      "cell_type": "markdown",
      "source": [
        "**5. Building a LSTM Model.**"
      ],
      "metadata": {
        "id": "WgVETij1Fduh"
      }
    },
    {
      "cell_type": "code",
      "source": [
        "def bulid_model2(input_shape):\n",
        "  \"\"\"\n",
        "  This function defines and returns a Sequential model for training and testing on a given dataset.\n",
        "  It uses two LSTM layers with dropout and layer normalization, followed by two Dense layers and a Softmax output layer.\n",
        "\n",
        "  Args:\n",
        "  input_shape: A tuple representing the shape of the input data. It should have the format (timesteps, features).\n",
        "\n",
        "  Returns:\n",
        "  A Keras Sequential model with the specified architecture.\n",
        "\n",
        "  \"\"\"\n",
        "  \n",
        "  # Defining the Sequential model\n",
        "  model = tf.keras.Sequential()\n",
        "  \n",
        "  # Adding the first LSTM layer with 128 units, input shape, and return sequences\n",
        "  model.add(LSTM(128,input_shape = input_shape,return_sequences=True))\n",
        "  \n",
        "  # Adding a Dropout layer with a rate of 0.4\n",
        "  model.add(Dropout(0.4))\n",
        "  \n",
        "  # Adding a LayerNormalization layer\n",
        "  model.add(LayerNormalization())\n",
        "  \n",
        "  # Adding the second LSTM layer with 64 units\n",
        "  model.add(LSTM(64))\n",
        "  \n",
        "  # Adding a Dense layer with 32 units\n",
        "  model.add(Dense(32))\n",
        "  \n",
        "  # Adding a second Dense layer with 2 units for the output\n",
        "  model.add(Dense(10))\n",
        "  \n",
        "  # Adding a Softmax activation function to the output layer\n",
        "  model.add(Softmax(axis=1))\n",
        "  \n",
        "  # Returning the completed model\n",
        "  return model"
      ],
      "metadata": {
        "id": "hnBhwREqFqS_"
      },
      "execution_count": 52,
      "outputs": []
    },
    {
      "cell_type": "code",
      "source": [
        "X_train = tf.keras.preprocessing.sequence.pad_sequences(X_train,maxlen=258)\n",
        "X_test = tf.keras.preprocessing.sequence.pad_sequences(X_test,maxlen=258)\n",
        "y_train = np.array(y_train)\n",
        "y_test = np.array(y_test)"
      ],
      "metadata": {
        "id": "0yZENajQaAlV"
      },
      "execution_count": 53,
      "outputs": []
    },
    {
      "cell_type": "code",
      "source": [
        "X_train = X_train.reshape(X_train.shape[0], X_train.shape[1], X_train.shape[2])\n",
        "input_shape = X_train[0].shape\n",
        "# Definng the model architecture using the `bulid_model2` function with the given input shape\n",
        "model2 = bulid_model2(input_shape)\n",
        "\n",
        "# Defining the Adam optimizer with a learning rate of 0.001\n",
        "opt = tf.keras.optimizers.Adam(learning_rate=0.001)\n",
        "\n",
        "# Compiling the model with the specified optimizer, loss function, and metrics\n",
        "model2.compile(optimizer=opt, loss='sparse_categorical_crossentropy', metrics=['accuracy'])\n",
        "\n",
        "# Training the model on the training data (`X_train` and `y_train`) for 50 epochs, using a batch size of 8\n",
        "history = model2.fit(X_train, y_train, batch_size = 5 , epochs = 20)\n",
        "\n",
        "# The `fit` method performs backpropagation to update the model parameters (weights and biases) based on the training data\n",
        "# The loss and accuracy metrics for each epoch are recorded in the `history` object"
      ],
      "metadata": {
        "id": "1Dtx4UzrFqVj",
        "colab": {
          "base_uri": "https://localhost:8080/"
        },
        "outputId": "2666da26-df9c-4246-9233-c1e377d1a812"
      },
      "execution_count": 54,
      "outputs": [
        {
          "output_type": "stream",
          "name": "stdout",
          "text": [
            "Epoch 1/20\n",
            "26/26 [==============================] - 10s 251ms/step - loss: 2.2254 - accuracy: 0.1385\n",
            "Epoch 2/20\n",
            "26/26 [==============================] - 7s 255ms/step - loss: 1.7568 - accuracy: 0.3692\n",
            "Epoch 3/20\n",
            "26/26 [==============================] - 6s 226ms/step - loss: 1.3959 - accuracy: 0.5385\n",
            "Epoch 4/20\n",
            "26/26 [==============================] - 8s 292ms/step - loss: 1.0708 - accuracy: 0.6615\n",
            "Epoch 5/20\n",
            "26/26 [==============================] - 6s 224ms/step - loss: 0.9904 - accuracy: 0.6692\n",
            "Epoch 6/20\n",
            "26/26 [==============================] - 7s 284ms/step - loss: 0.9463 - accuracy: 0.6615\n",
            "Epoch 7/20\n",
            "26/26 [==============================] - 6s 225ms/step - loss: 0.8510 - accuracy: 0.7538\n",
            "Epoch 8/20\n",
            "26/26 [==============================] - 7s 283ms/step - loss: 0.7000 - accuracy: 0.7769\n",
            "Epoch 9/20\n",
            "26/26 [==============================] - 6s 224ms/step - loss: 0.5704 - accuracy: 0.8000\n",
            "Epoch 10/20\n",
            "26/26 [==============================] - 8s 299ms/step - loss: 0.5467 - accuracy: 0.7846\n",
            "Epoch 11/20\n",
            "26/26 [==============================] - 6s 223ms/step - loss: 0.4945 - accuracy: 0.8308\n",
            "Epoch 12/20\n",
            "26/26 [==============================] - 8s 319ms/step - loss: 0.4572 - accuracy: 0.8538\n",
            "Epoch 13/20\n",
            "26/26 [==============================] - 7s 256ms/step - loss: 0.4041 - accuracy: 0.8692\n",
            "Epoch 14/20\n",
            "26/26 [==============================] - 6s 226ms/step - loss: 0.3731 - accuracy: 0.8846\n",
            "Epoch 15/20\n",
            "26/26 [==============================] - 7s 280ms/step - loss: 0.3226 - accuracy: 0.8769\n",
            "Epoch 16/20\n",
            "26/26 [==============================] - 6s 227ms/step - loss: 0.3163 - accuracy: 0.9000\n",
            "Epoch 17/20\n",
            "26/26 [==============================] - 7s 286ms/step - loss: 0.3084 - accuracy: 0.9000\n",
            "Epoch 18/20\n",
            "26/26 [==============================] - 6s 224ms/step - loss: 0.2276 - accuracy: 0.9462\n",
            "Epoch 19/20\n",
            "26/26 [==============================] - 7s 286ms/step - loss: 0.2602 - accuracy: 0.9385\n",
            "Epoch 20/20\n",
            "26/26 [==============================] - 6s 226ms/step - loss: 0.2419 - accuracy: 0.9231\n"
          ]
        }
      ]
    },
    {
      "cell_type": "code",
      "source": [
        "# Evaluating the trained model on the testing data and get the test loss and test accuracy\n",
        "test_loss, test_acc = model2.evaluate(X_test, y_test)"
      ],
      "metadata": {
        "id": "LZETk3v_FqXj",
        "colab": {
          "base_uri": "https://localhost:8080/"
        },
        "outputId": "5ccd52dd-8671-4d9f-cfa3-113b7fa7c74c"
      },
      "execution_count": 55,
      "outputs": [
        {
          "output_type": "stream",
          "name": "stdout",
          "text": [
            "1/1 [==============================] - 2s 2s/step - loss: 1.0737 - accuracy: 0.7000\n"
          ]
        }
      ]
    },
    {
      "cell_type": "code",
      "source": [
        "print(\"The Accuracy of LSTM model : \", test_acc * 100 , '%')"
      ],
      "metadata": {
        "id": "qUo6VkRtFqaN",
        "colab": {
          "base_uri": "https://localhost:8080/"
        },
        "outputId": "18029f4a-d048-4873-ae4c-e024fb8ad913"
      },
      "execution_count": 56,
      "outputs": [
        {
          "output_type": "stream",
          "name": "stdout",
          "text": [
            "The Accuracy of LSTM model :  69.9999988079071 %\n"
          ]
        }
      ]
    },
    {
      "cell_type": "code",
      "source": [],
      "metadata": {
        "id": "JOluZnXrxQyc"
      },
      "execution_count": null,
      "outputs": []
    }
  ]
}